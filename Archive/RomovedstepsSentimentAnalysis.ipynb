{
 "cells": [
  {
   "cell_type": "code",
   "execution_count": null,
   "metadata": {},
   "outputs": [],
   "source": [
    "# Use next day price trend to check the effect of news sentiment \n",
    "merged_df['next_day_price_trend'] = merged_df['price_trend'].shift(-1)"
   ]
  },
  {
   "cell_type": "code",
   "execution_count": null,
   "metadata": {},
   "outputs": [],
   "source": [
    "# Drop all rows without a \"sentiment_label\" value (removing dates without sentiment analysis) and \"next_day_price_trend\" value (removing non trading days)\n",
    "cleaned_df = merged_df.dropna(subset=[\"sentiment_label\", \"next_day_price_trend\"])"
   ]
  },
  {
   "cell_type": "code",
   "execution_count": null,
   "metadata": {},
   "outputs": [],
   "source": [
    "# Remove days with nuetral value for sentiment_label to simulate not trading on those days since no clear directional sentiment was found.\n",
    "cleaned_df = cleaned_df[~cleaned_df['sentiment_label'].isin(['neutral', 'None'])]"
   ]
  }
 ],
 "metadata": {
  "language_info": {
   "name": "python"
  },
  "orig_nbformat": 4
 },
 "nbformat": 4,
 "nbformat_minor": 2
}
