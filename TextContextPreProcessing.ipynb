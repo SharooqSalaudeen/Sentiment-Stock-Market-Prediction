{
 "cells": [
  {
   "cell_type": "code",
   "execution_count": 73,
   "metadata": {},
   "outputs": [],
   "source": [
    "import nltk\n",
    "import pandas as pd\n",
    "import re\n",
    "import os\n",
    "from nltk.corpus import stopwords\n",
    "from nltk.stem import WordNetLemmatizer\n",
    "from nltk.tokenize import word_tokenize, sent_tokenize\n",
    "from string import punctuation\n",
    "import csv"
   ]
  },
  {
   "cell_type": "code",
   "execution_count": 74,
   "metadata": {},
   "outputs": [
    {
     "name": "stderr",
     "output_type": "stream",
     "text": [
      "[nltk_data] Downloading package punkt to\n",
      "[nltk_data]     /Users/sharooqsalaudeen/nltk_data...\n",
      "[nltk_data]   Package punkt is already up-to-date!\n",
      "[nltk_data] Downloading package stopwords to\n",
      "[nltk_data]     /Users/sharooqsalaudeen/nltk_data...\n",
      "[nltk_data]   Package stopwords is already up-to-date!\n"
     ]
    },
    {
     "data": {
      "text/plain": [
       "True"
      ]
     },
     "execution_count": 74,
     "metadata": {},
     "output_type": "execute_result"
    }
   ],
   "source": [
    "# Download necessary datasets\n",
    "nltk.download('punkt')\n",
    "nltk.download('stopwords')"
   ]
  },
  {
   "cell_type": "code",
   "execution_count": 75,
   "metadata": {},
   "outputs": [],
   "source": [
    "# Load CSV Data\n",
    "\n",
    "# Stocks :- AAPL, MSFT, AMZN, NVDA, TSLA, GOOGL, UNH\n",
    "# Sector Indices :- SSINFT (^SP500-45)\n",
    "\n",
    "ticker = \"SSINFT\"     \n",
    "\n",
    "# Load the news artcile file\n",
    "df = pd.read_csv(f\"RawArticles/{ticker}_news_data.csv\")"
   ]
  },
  {
   "cell_type": "code",
   "execution_count": 76,
   "metadata": {},
   "outputs": [],
   "source": [
    "def preprocess_text(text):\n",
    "    # 1. Convert to lower case\n",
    "    text = str(text).lower()\n",
    "    \n",
    "    # 2. Remove hyperlinks\n",
    "    text = re.sub(r'https?:\\/\\/\\S+', '', text)\n",
    "    \n",
    "    # 3. Remove HTML tags\n",
    "    text = re.sub(r'<.*?>', '', text)\n",
    "    \n",
    "    # 4. Remove special characters and symbols\n",
    "    text = re.sub(r'[^a-z\\s]', '', text)\n",
    "    \n",
    "    return text"
   ]
  },
  {
   "cell_type": "code",
   "execution_count": 77,
   "metadata": {},
   "outputs": [],
   "source": [
    "df['Headline'] = df['Headline'].apply(preprocess_text)\n",
    "df['Summary'] = df['Summary'].apply(preprocess_text)\n",
    "# df['Content'] = df['Content'].apply(preprocess_text)"
   ]
  },
  {
   "cell_type": "code",
   "execution_count": 78,
   "metadata": {},
   "outputs": [
    {
     "data": {
      "text/html": [
       "<div>\n",
       "<style scoped>\n",
       "    .dataframe tbody tr th:only-of-type {\n",
       "        vertical-align: middle;\n",
       "    }\n",
       "\n",
       "    .dataframe tbody tr th {\n",
       "        vertical-align: top;\n",
       "    }\n",
       "\n",
       "    .dataframe thead th {\n",
       "        text-align: right;\n",
       "    }\n",
       "</style>\n",
       "<table border=\"1\" class=\"dataframe\">\n",
       "  <thead>\n",
       "    <tr style=\"text-align: right;\">\n",
       "      <th></th>\n",
       "      <th>Date</th>\n",
       "      <th>Headline</th>\n",
       "      <th>Summary</th>\n",
       "    </tr>\n",
       "  </thead>\n",
       "  <tbody>\n",
       "    <tr>\n",
       "      <th>0</th>\n",
       "      <td>2015-01-01</td>\n",
       "      <td>cnbcs biggest pops  drops of</td>\n",
       "      <td>nan</td>\n",
       "    </tr>\n",
       "    <tr>\n",
       "      <th>1</th>\n",
       "      <td>2015-01-02</td>\n",
       "      <td>should microchip technology be in your portfol...</td>\n",
       "      <td>nan</td>\n",
       "    </tr>\n",
       "    <tr>\n",
       "      <th>2</th>\n",
       "      <td>2015-01-02</td>\n",
       "      <td>companies to watch as music streaming explodes</td>\n",
       "      <td>nan</td>\n",
       "    </tr>\n",
       "    <tr>\n",
       "      <th>3</th>\n",
       "      <td>2015-01-02</td>\n",
       "      <td>study only five percent of us iphone users are...</td>\n",
       "      <td>nan</td>\n",
       "    </tr>\n",
       "    <tr>\n",
       "      <th>4</th>\n",
       "      <td>2015-01-02</td>\n",
       "      <td>bitcoin poised for success in</td>\n",
       "      <td>nan</td>\n",
       "    </tr>\n",
       "    <tr>\n",
       "      <th>...</th>\n",
       "      <td>...</td>\n",
       "      <td>...</td>\n",
       "      <td>...</td>\n",
       "    </tr>\n",
       "    <tr>\n",
       "      <th>42257</th>\n",
       "      <td>2022-12-30</td>\n",
       "      <td>binance ceo tweeted users can now purchase cry...</td>\n",
       "      <td>nan</td>\n",
       "    </tr>\n",
       "    <tr>\n",
       "      <th>42258</th>\n",
       "      <td>2022-12-30</td>\n",
       "      <td>investor fear eases after nasdaq rises more than</td>\n",
       "      <td>the cnn money fear and greed index showed some...</td>\n",
       "    </tr>\n",
       "    <tr>\n",
       "      <th>42259</th>\n",
       "      <td>2022-12-30</td>\n",
       "      <td>tesla apple ford southwest airlines hoth thera...</td>\n",
       "      <td>major wall street indices closed over  higher ...</td>\n",
       "    </tr>\n",
       "    <tr>\n",
       "      <th>42260</th>\n",
       "      <td>2022-12-30</td>\n",
       "      <td>highestyielding dow jones stocks heading into</td>\n",
       "      <td>the stock market had a rough  with many of the...</td>\n",
       "    </tr>\n",
       "    <tr>\n",
       "      <th>42261</th>\n",
       "      <td>2022-12-31</td>\n",
       "      <td>bulls in a bear market these  stocks clocked g...</td>\n",
       "      <td>would go down as one of the worst years for t...</td>\n",
       "    </tr>\n",
       "  </tbody>\n",
       "</table>\n",
       "<p>42262 rows × 3 columns</p>\n",
       "</div>"
      ],
      "text/plain": [
       "             Date                                           Headline  \\\n",
       "0      2015-01-01                      cnbcs biggest pops  drops of    \n",
       "1      2015-01-02  should microchip technology be in your portfol...   \n",
       "2      2015-01-02     companies to watch as music streaming explodes   \n",
       "3      2015-01-02  study only five percent of us iphone users are...   \n",
       "4      2015-01-02                     bitcoin poised for success in    \n",
       "...           ...                                                ...   \n",
       "42257  2022-12-30  binance ceo tweeted users can now purchase cry...   \n",
       "42258  2022-12-30  investor fear eases after nasdaq rises more than    \n",
       "42259  2022-12-30  tesla apple ford southwest airlines hoth thera...   \n",
       "42260  2022-12-30     highestyielding dow jones stocks heading into    \n",
       "42261  2022-12-31  bulls in a bear market these  stocks clocked g...   \n",
       "\n",
       "                                                 Summary  \n",
       "0                                                    nan  \n",
       "1                                                    nan  \n",
       "2                                                    nan  \n",
       "3                                                    nan  \n",
       "4                                                    nan  \n",
       "...                                                  ...  \n",
       "42257                                                nan  \n",
       "42258  the cnn money fear and greed index showed some...  \n",
       "42259  major wall street indices closed over  higher ...  \n",
       "42260  the stock market had a rough  with many of the...  \n",
       "42261   would go down as one of the worst years for t...  \n",
       "\n",
       "[42262 rows x 3 columns]"
      ]
     },
     "execution_count": 78,
     "metadata": {},
     "output_type": "execute_result"
    }
   ],
   "source": [
    "df"
   ]
  },
  {
   "cell_type": "code",
   "execution_count": 79,
   "metadata": {},
   "outputs": [],
   "source": [
    "directory = \"PreProcessedContextArticles\"\n",
    "\n",
    "#If directory doesn't exist, create the directory\n",
    "if not os.path.exists(directory):\n",
    "    os.makedirs(directory)\n",
    "\n",
    "filename = f\"{directory}/{ticker}_news_data.csv\""
   ]
  },
  {
   "cell_type": "code",
   "execution_count": 80,
   "metadata": {},
   "outputs": [],
   "source": [
    "df.to_csv(filename, index=False) "
   ]
  }
 ],
 "metadata": {
  "kernelspec": {
   "display_name": "ADSSThesis",
   "language": "python",
   "name": "python3"
  },
  "language_info": {
   "codemirror_mode": {
    "name": "ipython",
    "version": 3
   },
   "file_extension": ".py",
   "mimetype": "text/x-python",
   "name": "python",
   "nbconvert_exporter": "python",
   "pygments_lexer": "ipython3",
   "version": "3.11.4"
  },
  "orig_nbformat": 4
 },
 "nbformat": 4,
 "nbformat_minor": 2
}
