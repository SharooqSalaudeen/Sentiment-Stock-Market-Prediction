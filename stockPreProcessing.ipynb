{
 "cells": [
  {
   "cell_type": "code",
   "execution_count": 221,
   "metadata": {},
   "outputs": [],
   "source": [
    "import pandas as pd\n",
    "from datetime import datetime, timedelta\n",
    "import os"
   ]
  },
  {
   "cell_type": "code",
   "execution_count": 222,
   "metadata": {},
   "outputs": [],
   "source": [
    "# Load stock data \n",
    "\n",
    "# Stocks :- AAPL, MSFT, AMZN, NVDA, TSLA, GOOGL\n",
    "# Sector Indices :- SSINFT (^SP500-45)\n",
    "\n",
    "ticker = \"SSINFT\"     \n",
    "\n",
    "df = pd.read_excel(f\"RawStocks/{ticker}_stock_data.xlsx\", engine='openpyxl')"
   ]
  },
  {
   "cell_type": "code",
   "execution_count": 223,
   "metadata": {},
   "outputs": [
    {
     "data": {
      "text/plain": [
       "0"
      ]
     },
     "execution_count": 223,
     "metadata": {},
     "output_type": "execute_result"
    }
   ],
   "source": [
    "# Check for missing values in the DataFrame\n",
    "df.isnull().sum().sum() "
   ]
  },
  {
   "cell_type": "code",
   "execution_count": 224,
   "metadata": {},
   "outputs": [],
   "source": [
    "# Check for missing values in the DataFrame\n",
    "if df.isnull().sum().sum() > 0:\n",
    "    # Use the forward fill method to handle missing values\n",
    "    df.fillna(method='ffill', inplace=True)\n",
    "\n",
    "    # If the first row has missing values even after forward fill, you can use back fill for those specific cases\n",
    "    if df.iloc[0].isnull().sum() > 0:\n",
    "        df.fillna(method='bfill', inplace=True)"
   ]
  },
  {
   "cell_type": "code",
   "execution_count": 225,
   "metadata": {},
   "outputs": [],
   "source": [
    "# Reformate date\n",
    "df[\"Date\"] = pd.to_datetime(df['Date'], format=\"%Y-%m-%d\")"
   ]
  },
  {
   "cell_type": "code",
   "execution_count": 226,
   "metadata": {},
   "outputs": [],
   "source": [
    "# Add column indicating if price difference between open and close was positive or negative\n",
    "df['Difference'] = df['Close'] - df['Open']\n",
    "df['price_trend'] = df['Difference'].apply(lambda x: 'positive' if x > 0 else ('negative'))"
   ]
  },
  {
   "cell_type": "code",
   "execution_count": 227,
   "metadata": {},
   "outputs": [],
   "source": [
    "directory = \"PreProcessedStocks\"\n",
    "\n",
    "#If directory doesn't exist, create the directory\n",
    "if not os.path.exists(directory):\n",
    "    os.makedirs(directory)\n",
    "\n",
    "filename = f\"{directory}/{ticker}_stock_data.xlsx\""
   ]
  },
  {
   "cell_type": "code",
   "execution_count": 228,
   "metadata": {},
   "outputs": [],
   "source": [
    "df.to_excel(filename, index=False)"
   ]
  },
  {
   "cell_type": "code",
   "execution_count": null,
   "metadata": {},
   "outputs": [],
   "source": []
  },
  {
   "cell_type": "code",
   "execution_count": null,
   "metadata": {},
   "outputs": [],
   "source": []
  }
 ],
 "metadata": {
  "kernelspec": {
   "display_name": "ADSSThesis",
   "language": "python",
   "name": "python3"
  },
  "language_info": {
   "codemirror_mode": {
    "name": "ipython",
    "version": 3
   },
   "file_extension": ".py",
   "mimetype": "text/x-python",
   "name": "python",
   "nbconvert_exporter": "python",
   "pygments_lexer": "ipython3",
   "version": "3.11.4"
  },
  "orig_nbformat": 4
 },
 "nbformat": 4,
 "nbformat_minor": 2
}
