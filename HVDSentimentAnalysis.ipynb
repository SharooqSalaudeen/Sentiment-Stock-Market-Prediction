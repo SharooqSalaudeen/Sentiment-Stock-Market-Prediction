{
 "cells": [
  {
   "cell_type": "code",
   "execution_count": null,
   "metadata": {},
   "outputs": [],
   "source": [
    "import pandas as pd\n",
    "import os"
   ]
  },
  {
   "cell_type": "code",
   "execution_count": null,
   "metadata": {},
   "outputs": [],
   "source": [
    "# Load CSV Data\n",
    "\n",
    "# Stocks :- AAPL, MSFT, AMZN, NVDA, TSLA, GOOGL,\n",
    "# Sector Indices :- SSINFT (^SP500-45) \n",
    "\n",
    "ticker = \"SSINFT\"    \n",
    "method = \"HVD\"\n",
    "\n",
    "if method != \"DistilBERT\":\n",
    "  indirectory = \"MergedDataset\"\n",
    "else:\n",
    "  indirectory = \"MergedContextDataset\"\n",
    "\n",
    "# Load the merged dataset file\n",
    "df = pd.read_csv(f\"{indirectory}/{ticker}_agg_news_stock_trend_output.csv\")"
   ]
  },
  {
   "cell_type": "code",
   "execution_count": null,
   "metadata": {},
   "outputs": [],
   "source": [
    "# 2. Load Harvard IV-4 sentiment dictionary from previous step stored in two separate text files as positive and negative words.\n",
    "with open(f\"SentimentAnalysis/{method}/{method}_positive.txt\", 'r') as f:\n",
    "    positive_words = set(f.read().splitlines())\n",
    "\n",
    "with open(f\"SentimentAnalysis/{method}/{method}_negative.txt\", 'r') as f:\n",
    "    negative_words = set(f.read().splitlines())\n",
    "\n",
    "\n",
    "# 3. Sentiment Analysis\n",
    "def analyze_sentiment(text):\n",
    "    text_words = str(text).split()\n",
    "    positive_count = sum(1 for word in text_words if word in positive_words)\n",
    "    negative_count = sum(1 for word in text_words if word in negative_words)\n",
    "    # return sentiment score \n",
    "    return positive_count - negative_count\n",
    "\n",
    "df['polarity'] = df['Headline'].apply(analyze_sentiment)\n"
   ]
  },
  {
   "cell_type": "code",
   "execution_count": null,
   "metadata": {},
   "outputs": [],
   "source": [
    "df"
   ]
  },
  {
   "cell_type": "code",
   "execution_count": null,
   "metadata": {},
   "outputs": [],
   "source": [
    "# 5. Output Sentiment Results with stock price trend\n",
    "df.to_csv(f\"SentimentAnalysis/{method}/{ticker}sentiment_agg_stock_trend_output.csv\", index=False)"
   ]
  },
  {
   "cell_type": "code",
   "execution_count": null,
   "metadata": {},
   "outputs": [],
   "source": [
    "import numpy as np\n",
    "from sklearn.model_selection import train_test_split\n",
    "from sklearn.metrics import classification_report\n",
    "from sklearn.discriminant_analysis import LinearDiscriminantAnalysis\n",
    "from vaderSentiment.vaderSentiment import SentimentIntensityAnalyzer\n",
    "\n",
    "# Explanation about polarity and subjectivity\n",
    "print(\"\\nPolarity is a float which lies in the range from -1 to 1. -1 means a negative statement and 1 means a positive statement.\")\n",
    "print(\"Subjectivity is a float which lies in the range of 0 to 1. 0 being objective and 1 being subjective.\\n\")\n",
    "\n",
    "# Function to get sentiment intensity analyzer scores\n",
    "def get_sia(text):\n",
    "    sia = SentimentIntensityAnalyzer()\n",
    "    sentiment = sia.polarity_scores(text)\n",
    "    return sentiment\n",
    "\n",
    "compound = []\n",
    "neg = []\n",
    "neu = []\n",
    "pos = []\n",
    "\n",
    "for i in range(0, len(df['Headline'])):\n",
    "    sia = get_sia(df['Headline'][i])\n",
    "    compound.append(sia['compound'])\n",
    "    neg.append(sia['neg'])\n",
    "    neu.append(sia['neu'])\n",
    "    pos.append(sia['pos'])\n",
    "\n",
    "# Storing sentiment scores in the merged dataset\n",
    "df['compound'] = compound\n",
    "df['negative'] = neg\n",
    "df['neutral'] = neu\n",
    "df['positive'] = pos\n",
    "\n",
    "# Columns to keep\n",
    "keep_columns = ['Open', 'High', 'Low', 'Volume', 'polarity', 'price_trend']\n",
    "# keep_columns = ['Open', 'High', 'Low', 'Close', 'Volume', 'polarity', 'next_day_price_trend']\n",
    "df = df[keep_columns]\n",
    "print(df)\n",
    "\n",
    "\n"
   ]
  },
  {
   "cell_type": "code",
   "execution_count": null,
   "metadata": {},
   "outputs": [],
   "source": [
    "# Creating the feature dataset\n",
    "x = np.array(merged_df.drop(columns=['price_trend']))\n",
    "# x = np.array(merged_df.drop(columns=['next_day_price_trend']))\n",
    "# Creating the target dataset\n",
    "y = np.array(merged_df['price_trend'])\n",
    "# y = np.array(merged_df['next_day_price_trend'])\n",
    "\n",
    "# Splitting the data\n",
    "x_train, x_test, y_train, y_test = train_test_split(x, y, test_size=0.2, random_state=0)\n",
    "\n",
    "# Creating and training the model\n",
    "model = LinearDiscriminantAnalysis().fit(x_train, y_train)\n",
    "\n",
    "# Model's predictions\n",
    "predictions = model.predict(x_test)\n",
    "print(predictions)\n",
    "\n",
    "print(y_test)\n",
    "\n",
    "# Model metrics\n",
    "print(classification_report(y_test, predictions))"
   ]
  },
  {
   "cell_type": "code",
   "execution_count": null,
   "metadata": {},
   "outputs": [],
   "source": []
  }
 ],
 "metadata": {
  "kernelspec": {
   "display_name": "ADSSThesis",
   "language": "python",
   "name": "python3"
  },
  "language_info": {
   "codemirror_mode": {
    "name": "ipython",
    "version": 3
   },
   "file_extension": ".py",
   "mimetype": "text/x-python",
   "name": "python",
   "nbconvert_exporter": "python",
   "pygments_lexer": "ipython3",
   "version": "3.11.4"
  },
  "orig_nbformat": 4
 },
 "nbformat": 4,
 "nbformat_minor": 2
}
