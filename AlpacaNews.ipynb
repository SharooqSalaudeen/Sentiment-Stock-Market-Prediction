{
 "cells": [
  {
   "cell_type": "code",
   "execution_count": null,
   "metadata": {},
   "outputs": [],
   "source": [
    "import requests\n",
    "import pandas as pd\n",
    "import json\n",
    "import os\n",
    "import sys\n",
    "from datetime import datetime, timedelta\n",
    "import csv\n",
    "\n",
    "from dotenv import load_dotenv\n",
    "import os\n"
   ]
  },
  {
   "cell_type": "code",
   "execution_count": null,
   "metadata": {},
   "outputs": [],
   "source": [
    "load_dotenv()\n"
   ]
  },
  {
   "cell_type": "code",
   "execution_count": null,
   "metadata": {},
   "outputs": [],
   "source": [
    "url = \"https://data.alpaca.markets/v1beta1/news\"\n",
    "headers = {\n",
    "    'Apca-Api-Key-Id': os.getenv('ALPACA_API_KEY'),\n",
    "    'Apca-Api-Secret-Key': os.config('ALPACA_API_SECRET')\n",
    "}\n"
   ]
  },
  {
   "cell_type": "code",
   "execution_count": null,
   "metadata": {},
   "outputs": [],
   "source": [
    "# Stocks :- AAPL, MSFT, AMZN, NVDA, TSLA, GOOGL, UNH\n",
    "# Sector Indices :- SPINF (AAPL,MSFT,NVDA,AVGO,ADBE,CRM,CSCO,ACN,AMD,ORCL)\n",
    "\n",
    "ticker = \"AAPL\"     \n",
    "\n",
    "\n",
    "start_date = datetime(2012, 1, 1)\n",
    "end_date = datetime(2022, 12, 31)"
   ]
  },
  {
   "cell_type": "code",
   "execution_count": null,
   "metadata": {},
   "outputs": [],
   "source": [
    "\n",
    "# Extract news details into a list\n",
    "news_list = []\n",
    "\n",
    "current_date = start_date\n",
    "while current_date <= end_date:\n",
    "\n",
    "  querystring = {\n",
    "    'start': f\"{current_date.date()}T00:00:01Z\",\n",
    "    'end': f\"{current_date.date()}T23:59:59Z\",\n",
    "    'symbols': ticker,\n",
    "    'limit': 50,\n",
    "    # 'include_content': True,\n",
    "    # 'exclude_contentless': True\n",
    "    'include_content': False,\n",
    "    'exclude_contentless': False,\n",
    "  }\n",
    "\n",
    "  response = requests.request(\n",
    "    \"GET\", url, headers=headers, params=querystring)\n",
    "\n",
    "  data = response.json()\n",
    "\n",
    "\n",
    "\n",
    "  for index, news in enumerate(data[\"news\"]):\n",
    "    headline = news[\"headline\"]\n",
    "    summary = news[\"summary\"]\n",
    "    # content = news[\"content\"]\n",
    "    date = datetime.fromisoformat(news[\"created_at\"].rstrip('Z')).date()\n",
    "\n",
    "    news_list.append([date, headline, summary])\n",
    "\n",
    "  current_date += timedelta(days=1)\n"
   ]
  },
  {
   "cell_type": "code",
   "execution_count": null,
   "metadata": {},
   "outputs": [],
   "source": [
    "\n",
    "directory = \"RawArticles\"\n",
    "\n",
    "#If directory doesn't exist, create the directory\n",
    "if not os.path.exists(directory):\n",
    "    os.makedirs(directory)\n",
    "\n",
    "filename = f\"{directory}/{ticker}_news_data.csv\"\n"
   ]
  },
  {
   "cell_type": "code",
   "execution_count": null,
   "metadata": {},
   "outputs": [],
   "source": [
    "# Sort the news list by date\n",
    "news_list.sort(key=lambda x: x[0])\n",
    "\n",
    "with open(filename, 'w', newline='') as csv_file:\n",
    "    writer = csv.writer(csv_file)\n",
    "    writer.writerow(['Date', 'Headline', 'Summary'])  # Write the header\n",
    "    writer.writerows(news_list)  # Write the sorted news data"
   ]
  },
  {
   "cell_type": "code",
   "execution_count": null,
   "metadata": {},
   "outputs": [],
   "source": []
  }
 ],
 "metadata": {
  "kernelspec": {
   "display_name": "ADSSThesis",
   "language": "python",
   "name": "python3"
  },
  "language_info": {
   "codemirror_mode": {
    "name": "ipython",
    "version": 3
   },
   "file_extension": ".py",
   "mimetype": "text/x-python",
   "name": "python",
   "nbconvert_exporter": "python",
   "pygments_lexer": "ipython3",
   "version": "3.11.4"
  },
  "orig_nbformat": 4
 },
 "nbformat": 4,
 "nbformat_minor": 2
}
