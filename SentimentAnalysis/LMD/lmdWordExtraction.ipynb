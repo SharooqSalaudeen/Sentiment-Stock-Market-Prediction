{
 "cells": [
  {
   "cell_type": "code",
   "execution_count": 2,
   "metadata": {},
   "outputs": [],
   "source": [
    "import pandas as pd\n",
    "import re"
   ]
  },
  {
   "cell_type": "code",
   "execution_count": 3,
   "metadata": {},
   "outputs": [],
   "source": [
    "# Read the data from the xls file\n",
    "df = pd.read_csv('lmdDictionary.csv')\n"
   ]
  },
  {
   "cell_type": "code",
   "execution_count": 5,
   "metadata": {},
   "outputs": [],
   "source": [
    "# Process 'Word' column\n",
    "df['Word'] = df['Word'].str.lower()\n"
   ]
  },
  {
   "cell_type": "code",
   "execution_count": 18,
   "metadata": {},
   "outputs": [],
   "source": [
    "# Step 2: Extract positive and negative entries\n",
    "positive_words = [entry for entry in df[df['Positive'].notna()]['Word'].tolist() if isinstance(entry, str)]\n",
    "negative_words = [entry for entry in df[df['Negative'].notna()]['Word'].tolist() if isinstance(entry, str)]"
   ]
  },
  {
   "cell_type": "code",
   "execution_count": 20,
   "metadata": {},
   "outputs": [],
   "source": [
    "# Export to text files\n",
    "with open('LMD_positive.txt', 'w') as f:\n",
    "    for entry in positive_words:\n",
    "        f.write(entry + '\\n')\n",
    "\n",
    "with open('LMD_negative.txt', 'w') as f:\n",
    "    for entry in negative_words:\n",
    "        f.write(entry + '\\n')"
   ]
  },
  {
   "cell_type": "code",
   "execution_count": null,
   "metadata": {},
   "outputs": [],
   "source": []
  }
 ],
 "metadata": {
  "kernelspec": {
   "display_name": "ADSSThesis",
   "language": "python",
   "name": "python3"
  },
  "language_info": {
   "codemirror_mode": {
    "name": "ipython",
    "version": 3
   },
   "file_extension": ".py",
   "mimetype": "text/x-python",
   "name": "python",
   "nbconvert_exporter": "python",
   "pygments_lexer": "ipython3",
   "version": "3.11.4"
  },
  "orig_nbformat": 4
 },
 "nbformat": 4,
 "nbformat_minor": 2
}
