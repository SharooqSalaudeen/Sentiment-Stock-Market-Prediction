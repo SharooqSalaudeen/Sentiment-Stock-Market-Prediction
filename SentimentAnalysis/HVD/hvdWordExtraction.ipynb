{
 "cells": [
  {
   "cell_type": "code",
   "execution_count": 2,
   "metadata": {},
   "outputs": [],
   "source": [
    "import pandas as pd\n",
    "import re"
   ]
  },
  {
   "cell_type": "code",
   "execution_count": 3,
   "metadata": {},
   "outputs": [],
   "source": [
    "# Read the data from the xls file\n",
    "df = pd.read_excel('hvdDictionary.xls')\n"
   ]
  },
  {
   "cell_type": "code",
   "execution_count": 4,
   "metadata": {},
   "outputs": [],
   "source": [
    "# Remove numbers and symbols using regex\n",
    "def clean_entry(entry):\n",
    "    if isinstance(entry, str):  # check if entry is a string\n",
    "        return re.sub(r'[^A-Za-z]', '', entry).lower()\n",
    "    return entry  # return the original value if it's not a string\n",
    "\n",
    "# Process 'Entry' column\n",
    "df['Entry'] = df['Entry'].apply(clean_entry)\n"
   ]
  },
  {
   "cell_type": "code",
   "execution_count": 5,
   "metadata": {},
   "outputs": [],
   "source": [
    "# Drop duplicates based on the 'Entry' column\n",
    "df = df.drop_duplicates(subset='Entry', keep='first')\n",
    "\n"
   ]
  },
  {
   "cell_type": "code",
   "execution_count": 6,
   "metadata": {},
   "outputs": [],
   "source": [
    "# Step 2: Extract positive and negative entries and ensure only string values are added to the lists\n",
    "positive_entries = [entry for entry in df[df['Positiv'].notnull()]['Entry'].tolist() if isinstance(entry, str)]\n",
    "negative_entries = [entry for entry in df[df['Negativ'].notnull()]['Entry'].tolist() if isinstance(entry, str)]\n"
   ]
  },
  {
   "cell_type": "code",
   "execution_count": 7,
   "metadata": {},
   "outputs": [],
   "source": [
    "# Export to text files\n",
    "with open('HVD_positive.txt', 'w') as f:\n",
    "    for entry in positive_entries:\n",
    "        f.write(entry + '\\n')\n",
    "\n",
    "with open('HVD_negative.txt', 'w') as f:\n",
    "    for entry in negative_entries:\n",
    "        f.write(entry + '\\n')"
   ]
  },
  {
   "cell_type": "code",
   "execution_count": null,
   "metadata": {},
   "outputs": [],
   "source": []
  }
 ],
 "metadata": {
  "kernelspec": {
   "display_name": "ADSSThesis",
   "language": "python",
   "name": "python3"
  },
  "language_info": {
   "codemirror_mode": {
    "name": "ipython",
    "version": 3
   },
   "file_extension": ".py",
   "mimetype": "text/x-python",
   "name": "python",
   "nbconvert_exporter": "python",
   "pygments_lexer": "ipython3",
   "version": "3.11.4"
  },
  "orig_nbformat": 4
 },
 "nbformat": 4,
 "nbformat_minor": 2
}
