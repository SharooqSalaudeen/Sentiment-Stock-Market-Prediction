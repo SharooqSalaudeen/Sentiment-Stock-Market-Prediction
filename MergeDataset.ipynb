{
 "cells": [
  {
   "cell_type": "code",
   "execution_count": null,
   "metadata": {},
   "outputs": [],
   "source": [
    "import pandas as pd\n",
    "import os\n"
   ]
  },
  {
   "cell_type": "code",
   "execution_count": null,
   "metadata": {},
   "outputs": [],
   "source": [
    "# Load CSV Data\n",
    "\n",
    "# Stocks :- AAPL, MSFT, AMZN, NVDA, TSLA, GOOGL\n",
    "# Sector Indices :- SSINFT (^SP500-45)\n",
    "\n",
    "ticker = \"GOOGL\"  \n",
    "# indirectory = \"PreProcessedArticles\"\n",
    "indirectory = \"PreProcessedContextArticles\"\n",
    "\n",
    "if indirectory == \"PreProcessedContextArticles\":\n",
    "  outdirectory = \"MergedContextDataset\"\n",
    "else:\n",
    "  outdirectory = \"MergedDataset\"\n",
    "\n",
    "# Load the news artcile file\n",
    "df = pd.read_csv(f\"{indirectory}/{ticker}_news_data.csv\")"
   ]
  },
  {
   "cell_type": "code",
   "execution_count": null,
   "metadata": {},
   "outputs": [],
   "source": [
    "# 6. Aggregate the sentument score on a given day and calculate the overall sentiment by taking each days positive and negative score sum and dividing by total number of articels on that day\n",
    "# Fill NaN values in the Summary column\n",
    "df['Summary'].fillna(\"\", inplace=True)\n",
    "\n",
    "# Convert all values in 'Headline' and 'Summary' to strings\n",
    "df['Headline'] = df['Headline'].astype(str)\n",
    "df['Summary'] = df['Summary'].astype(str)\n",
    "\n",
    "aggregations = {\n",
    "    'Headline': ' '.join,\n",
    "    'Summary': ' '.join,\n",
    "}\n",
    "\n",
    "# Group by Date and aggregate\n",
    "agg_df = df.groupby('Date').agg(aggregations).reset_index()\n"
   ]
  },
  {
   "cell_type": "code",
   "execution_count": null,
   "metadata": {},
   "outputs": [],
   "source": [
    "# Convert the 'Date' column to datetime dtype (if it's not already)\n",
    "agg_df['Date'] = pd.to_datetime(agg_df['Date'], format='%Y-%m-%d')"
   ]
  },
  {
   "cell_type": "code",
   "execution_count": null,
   "metadata": {},
   "outputs": [],
   "source": [
    "# 6. Load stock market data with price trend\n",
    "stock_df = pd.read_excel(f\"PreProcessedStocks/{ticker}_stock_data.xlsx\", engine='openpyxl')"
   ]
  },
  {
   "cell_type": "code",
   "execution_count": null,
   "metadata": {},
   "outputs": [],
   "source": [
    "# Convert the 'Date' column to datetime dtype \n",
    "stock_df['Date'] = pd.to_datetime(stock_df['Date'], format='%d/%m/%Y')"
   ]
  },
  {
   "cell_type": "code",
   "execution_count": null,
   "metadata": {},
   "outputs": [],
   "source": [
    "# 7. Compare the the sentiment value to the following days price trend and get the accuracy\n",
    "merged_df = pd.merge(agg_df,stock_df,  on=\"Date\", how='inner')"
   ]
  },
  {
   "cell_type": "code",
   "execution_count": null,
   "metadata": {},
   "outputs": [],
   "source": [
    "# Use next day price trend to check the effect of news sentiment \n",
    "merged_df['next_day_price_trend'] = merged_df['price_trend'].shift(-1)"
   ]
  },
  {
   "cell_type": "code",
   "execution_count": null,
   "metadata": {},
   "outputs": [],
   "source": [
    "# Remove days with nuetral value for sentiment_label to simulate not trading on those days since no clear directional sentiment was found.\n",
    "merged_df = merged_df[~merged_df['next_day_price_trend'].isin(['neutral', 'None'])]\n",
    "\n",
    "# Drop all rows without a \"price_trend\" value (removing non trading days)\n",
    "merged_df = merged_df.dropna(subset=[\"price_trend\", \"next_day_price_trend\"])"
   ]
  },
  {
   "cell_type": "code",
   "execution_count": null,
   "metadata": {},
   "outputs": [],
   "source": [
    "# Convert sentiments to binary\n",
    "merged_df['price_trend'] = merged_df['price_trend'].replace({'positive': 1, 'negative': 0})\n",
    "merged_df['next_day_price_trend'] = merged_df['next_day_price_trend'].replace({'positive': 1, 'negative': 0})"
   ]
  },
  {
   "cell_type": "code",
   "execution_count": null,
   "metadata": {},
   "outputs": [],
   "source": [
    "merged_df"
   ]
  },
  {
   "cell_type": "code",
   "execution_count": null,
   "metadata": {},
   "outputs": [],
   "source": [
    "# 5. Output Sentiment Results with stock price trend\n",
    "merged_df.to_csv(f\"{outdirectory}/{ticker}_agg_news_stock_trend_output.csv\", index=False)z"
   ]
  },
  {
   "cell_type": "code",
   "execution_count": null,
   "metadata": {},
   "outputs": [],
   "source": []
  }
 ],
 "metadata": {
  "kernelspec": {
   "display_name": "ADSSThesis",
   "language": "python",
   "name": "python3"
  },
  "language_info": {
   "codemirror_mode": {
    "name": "ipython",
    "version": 3
   },
   "file_extension": ".py",
   "mimetype": "text/x-python",
   "name": "python",
   "nbconvert_exporter": "python",
   "pygments_lexer": "ipython3",
   "version": "3.11.4"
  },
  "orig_nbformat": 4
 },
 "nbformat": 4,
 "nbformat_minor": 2
}
